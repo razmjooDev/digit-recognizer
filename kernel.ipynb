{
  "cells": [
    {
      "metadata": {
        "_uuid": "2899a9f2b2180a1871b00169676cd61a5e64c366"
      },
      "cell_type": "markdown",
      "source": "**import required libraries**"
    },
    {
      "metadata": {
        "_cell_guid": "f67b9393-8ea1-4e23-b856-2ce149cfe421",
        "_execution_state": "idle",
        "_uuid": "72334cb006d02a4bcfc2a2fe622524eba824c6f8",
        "trusted": true
      },
      "cell_type": "code",
      "source": "import pandas as pd\nimport numpy as np\nimport matplotlib.pyplot as plt\nimport matplotlib.image as mpimg\nimport seaborn as sns\n\n\nnp.random.seed(2)\n\nfrom sklearn.model_selection import train_test_split\n\nfrom keras.utils.np_utils import to_categorical # convert to one-hot-encoding\nfrom keras.models import Sequential\nfrom keras.layers import Dense, Dropout, Flatten, Conv2D, MaxPool2D",
      "execution_count": 276,
      "outputs": []
    },
    {
      "metadata": {
        "_uuid": "fccec45de028550a0169f83a7cb70158151b4298"
      },
      "cell_type": "markdown",
      "source": "**  Load the data**"
    },
    {
      "metadata": {
        "_cell_guid": "5e51d00e-62fd-4141-bf73-50ac4f2da7d0",
        "_execution_state": "idle",
        "_uuid": "84bbd5ab8d7895bd430d5ecfe2f7ddf77baa7b74",
        "trusted": true
      },
      "cell_type": "code",
      "source": "train = pd.read_csv(\"../input/train.csv\")\ntest = pd.read_csv(\"../input/test.csv\")",
      "execution_count": 277,
      "outputs": []
    },
    {
      "metadata": {
        "_cell_guid": "86570a36-5c20-460a-9dfd-2070548532a7",
        "_execution_state": "idle",
        "_uuid": "1213b979d5ed3e0d13824d17d694c79d2ece92fa",
        "trusted": true
      },
      "cell_type": "code",
      "source": "Y_train = train[\"label\"]\n\nX_train = train.drop(labels = [\"label\"],axis = 1) \n\ndel train ",
      "execution_count": 278,
      "outputs": []
    },
    {
      "metadata": {
        "_uuid": "0a44731657b0936aa9ec8e5c81746e3d465adc38"
      },
      "cell_type": "markdown",
      "source": "**Normalization**\n* We convert data from [0,255] to [0,1] to make convergence faster"
    },
    {
      "metadata": {
        "_cell_guid": "cdc4340b-6e24-4e12-be99-ac806098ff17",
        "_execution_state": "idle",
        "_uuid": "b5d4f8fcf2a967e2c7d57daedf95aa8c5ab7f8cb",
        "trusted": true
      },
      "cell_type": "code",
      "source": "X_train = X_train / 255.0\ntest = test / 255.0",
      "execution_count": 279,
      "outputs": []
    },
    {
      "metadata": {
        "_uuid": "a6ce62ee8bfe59f95b40bca1b5a4b256d603cafa"
      },
      "cell_type": "markdown",
      "source": "**Reshape**\n* Reshape image in 3 dimensions (height = 28px, width = 28px , canal = 1)"
    },
    {
      "metadata": {
        "_cell_guid": "34b6a5f7-8fd2-4387-8ef4-c9dc19584fed",
        "_execution_state": "idle",
        "_uuid": "f0a6ad80dab8e0f2c2e46165ccd9cd82dd162bc3",
        "trusted": true
      },
      "cell_type": "code",
      "source": "X_train = X_train.values.reshape(-1,28,28,1)\ntest = test.values.reshape(-1,28,28,1)",
      "execution_count": 280,
      "outputs": []
    },
    {
      "metadata": {
        "_uuid": "f309baa84a160f746cb5af9b5153800dcb6c7819"
      },
      "cell_type": "markdown",
      "source": "**Encode**\n* Encode labels to one hot vectors"
    },
    {
      "metadata": {
        "_cell_guid": "4b7f3e78-44dc-4561-b1f0-9429ee024cf4",
        "_execution_state": "idle",
        "_uuid": "cabefd1478d5c1bdfe57fd6a34395340916a854c",
        "trusted": true
      },
      "cell_type": "code",
      "source": "Y_train = to_categorical(Y_train, num_classes = 10)",
      "execution_count": 281,
      "outputs": []
    },
    {
      "metadata": {
        "_cell_guid": "dcd25ebb-d845-4d32-9867-082e352b1396",
        "_execution_state": "idle",
        "_uuid": "b779ac76d8317647db92d5a88b4098d212d72884",
        "trusted": true
      },
      "cell_type": "code",
      "source": "X_train, X_val, Y_train, Y_val = train_test_split(X_train, Y_train, test_size = 0.1)",
      "execution_count": 282,
      "outputs": []
    },
    {
      "metadata": {
        "_uuid": "acaf3ee20d043edff40bf625c6359ef808f1cfb2"
      },
      "cell_type": "markdown",
      "source": "**CNN**\n* Set the CNN model "
    },
    {
      "metadata": {
        "_cell_guid": "1e0f3f88-2ad7-459e-8e02-aecc5f3511ae",
        "_execution_state": "idle",
        "_uuid": "f7991ef6871a26f9fa57acdcd460a69bab53e804",
        "trusted": true
      },
      "cell_type": "code",
      "source": "model = Sequential()\n\nmodel.add(Conv2D(filters = 32, kernel_size = (5,5),padding = 'Same', \n                 activation ='relu', input_shape = (28,28,1)))\nmodel.add(Conv2D(filters = 32, kernel_size = (5,5),padding = 'Same', \n                 activation ='relu'))\nmodel.add(MaxPool2D(pool_size=(2,2)))\nmodel.add(Dropout(0.25))\n\nmodel.add(Conv2D(filters = 64, kernel_size = (3,3),padding = 'Same', \n                 activation ='relu'))\nmodel.add(Conv2D(filters = 64, kernel_size = (3,3),padding = 'Same', \n                 activation ='relu'))\nmodel.add(MaxPool2D(pool_size=(2,2), strides=(2,2)))\nmodel.add(Dropout(0.25))\n \nmodel.add(Flatten())\nmodel.add(Dense(256, activation = \"relu\"))\nmodel.add(Dropout(0.5))\nmodel.add(Dense(10, activation = \"softmax\"))\nmodel.summary()",
      "execution_count": 283,
      "outputs": [
        {
          "output_type": "stream",
          "text": "_________________________________________________________________\nLayer (type)                 Output Shape              Param #   \n=================================================================\nconv2d_83 (Conv2D)           (None, 28, 28, 32)        832       \n_________________________________________________________________\nconv2d_84 (Conv2D)           (None, 28, 28, 32)        25632     \n_________________________________________________________________\nmax_pooling2d_39 (MaxPooling (None, 14, 14, 32)        0         \n_________________________________________________________________\ndropout_62 (Dropout)         (None, 14, 14, 32)        0         \n_________________________________________________________________\nconv2d_85 (Conv2D)           (None, 14, 14, 64)        18496     \n_________________________________________________________________\nconv2d_86 (Conv2D)           (None, 14, 14, 64)        36928     \n_________________________________________________________________\nmax_pooling2d_40 (MaxPooling (None, 7, 7, 64)          0         \n_________________________________________________________________\ndropout_63 (Dropout)         (None, 7, 7, 64)          0         \n_________________________________________________________________\nflatten_21 (Flatten)         (None, 3136)              0         \n_________________________________________________________________\ndense_44 (Dense)             (None, 256)               803072    \n_________________________________________________________________\ndropout_64 (Dropout)         (None, 256)               0         \n_________________________________________________________________\ndense_45 (Dense)             (None, 10)                2570      \n=================================================================\nTotal params: 887,530\nTrainable params: 887,530\nNon-trainable params: 0\n_________________________________________________________________\n",
          "name": "stdout"
        }
      ]
    },
    {
      "metadata": {
        "_uuid": "dbb7b1ec68ebca4192fbf43b2c74a8ef5778de28"
      },
      "cell_type": "markdown",
      "source": "** Compile the model**"
    },
    {
      "metadata": {
        "_cell_guid": "0bd89b79-1a74-40da-af9a-7a76a8b96ff2",
        "_execution_state": "idle",
        "_uuid": "b4c0288622227a3cd05479aa765e324dbb852f34",
        "trusted": true
      },
      "cell_type": "code",
      "source": "model.compile(optimizer = 'adam' , loss = \"categorical_crossentropy\", metrics=[\"accuracy\"])",
      "execution_count": 284,
      "outputs": []
    },
    {
      "metadata": {
        "_cell_guid": "ade93d2d-90c6-4401-af95-f7d65f8c0a20",
        "_execution_state": "idle",
        "_uuid": "d4e9e1ade3c04f9ca4d8cd44e799f9e09524d5a1",
        "trusted": true
      },
      "cell_type": "code",
      "source": "history=model.fit(X_train, Y_train,\n                  batch_size = 64, epochs = 60, \n          validation_data = (X_val, Y_val), verbose = 2)",
      "execution_count": 285,
      "outputs": [
        {
          "output_type": "stream",
          "text": "Train on 37800 samples, validate on 4200 samples\nEpoch 1/60\n - 7s - loss: 0.2370 - acc: 0.9246 - val_loss: 0.0630 - val_acc: 0.9786\nEpoch 2/60\n - 4s - loss: 0.0774 - acc: 0.9758 - val_loss: 0.0428 - val_acc: 0.9871\nEpoch 3/60\n - 4s - loss: 0.0604 - acc: 0.9817 - val_loss: 0.0377 - val_acc: 0.9864\nEpoch 4/60\n - 4s - loss: 0.0475 - acc: 0.9850 - val_loss: 0.0320 - val_acc: 0.9912\nEpoch 5/60\n - 4s - loss: 0.0442 - acc: 0.9873 - val_loss: 0.0315 - val_acc: 0.9907\nEpoch 6/60\n - 4s - loss: 0.0353 - acc: 0.9892 - val_loss: 0.0309 - val_acc: 0.9905\nEpoch 7/60\n - 4s - loss: 0.0315 - acc: 0.9901 - val_loss: 0.0367 - val_acc: 0.9900\nEpoch 8/60\n - 4s - loss: 0.0291 - acc: 0.9912 - val_loss: 0.0390 - val_acc: 0.9926\nEpoch 9/60\n - 4s - loss: 0.0262 - acc: 0.9920 - val_loss: 0.0290 - val_acc: 0.9929\nEpoch 10/60\n - 4s - loss: 0.0255 - acc: 0.9925 - val_loss: 0.0356 - val_acc: 0.9914\nEpoch 11/60\n - 4s - loss: 0.0249 - acc: 0.9926 - val_loss: 0.0283 - val_acc: 0.9929\nEpoch 12/60\n - 4s - loss: 0.0223 - acc: 0.9931 - val_loss: 0.0306 - val_acc: 0.9919\nEpoch 13/60\n - 4s - loss: 0.0206 - acc: 0.9933 - val_loss: 0.0395 - val_acc: 0.9921\nEpoch 14/60\n - 4s - loss: 0.0199 - acc: 0.9939 - val_loss: 0.0299 - val_acc: 0.9940\nEpoch 15/60\n - 4s - loss: 0.0195 - acc: 0.9938 - val_loss: 0.0286 - val_acc: 0.9917\nEpoch 16/60\n - 4s - loss: 0.0168 - acc: 0.9948 - val_loss: 0.0297 - val_acc: 0.9921\nEpoch 17/60\n - 4s - loss: 0.0184 - acc: 0.9948 - val_loss: 0.0269 - val_acc: 0.9936\nEpoch 18/60\n - 4s - loss: 0.0162 - acc: 0.9949 - val_loss: 0.0292 - val_acc: 0.9926\nEpoch 19/60\n - 4s - loss: 0.0157 - acc: 0.9948 - val_loss: 0.0324 - val_acc: 0.9929\nEpoch 20/60\n - 4s - loss: 0.0172 - acc: 0.9948 - val_loss: 0.0261 - val_acc: 0.9931\nEpoch 21/60\n - 4s - loss: 0.0126 - acc: 0.9961 - val_loss: 0.0272 - val_acc: 0.9948\nEpoch 22/60\n - 4s - loss: 0.0116 - acc: 0.9963 - val_loss: 0.0236 - val_acc: 0.9936\nEpoch 23/60\n - 4s - loss: 0.0155 - acc: 0.9954 - val_loss: 0.0262 - val_acc: 0.9940\nEpoch 24/60\n - 4s - loss: 0.0145 - acc: 0.9957 - val_loss: 0.0252 - val_acc: 0.9943\nEpoch 25/60\n - 4s - loss: 0.0107 - acc: 0.9965 - val_loss: 0.0396 - val_acc: 0.9938\nEpoch 26/60\n - 4s - loss: 0.0148 - acc: 0.9953 - val_loss: 0.0256 - val_acc: 0.9940\nEpoch 27/60\n - 4s - loss: 0.0134 - acc: 0.9957 - val_loss: 0.0298 - val_acc: 0.9938\nEpoch 28/60\n - 4s - loss: 0.0111 - acc: 0.9964 - val_loss: 0.0338 - val_acc: 0.9936\nEpoch 29/60\n - 4s - loss: 0.0121 - acc: 0.9962 - val_loss: 0.0319 - val_acc: 0.9938\nEpoch 30/60\n - 4s - loss: 0.0115 - acc: 0.9962 - val_loss: 0.0230 - val_acc: 0.9950\nEpoch 31/60\n - 4s - loss: 0.0115 - acc: 0.9964 - val_loss: 0.0364 - val_acc: 0.9936\nEpoch 32/60\n - 4s - loss: 0.0109 - acc: 0.9967 - val_loss: 0.0301 - val_acc: 0.9926\nEpoch 33/60\n - 4s - loss: 0.0124 - acc: 0.9962 - val_loss: 0.0381 - val_acc: 0.9940\nEpoch 34/60\n - 4s - loss: 0.0115 - acc: 0.9968 - val_loss: 0.0292 - val_acc: 0.9945\nEpoch 35/60\n - 4s - loss: 0.0109 - acc: 0.9967 - val_loss: 0.0263 - val_acc: 0.9938\nEpoch 36/60\n - 4s - loss: 0.0108 - acc: 0.9970 - val_loss: 0.0327 - val_acc: 0.9943\nEpoch 37/60\n - 4s - loss: 0.0117 - acc: 0.9963 - val_loss: 0.0382 - val_acc: 0.9933\nEpoch 38/60\n - 4s - loss: 0.0129 - acc: 0.9960 - val_loss: 0.0335 - val_acc: 0.9945\nEpoch 39/60\n - 4s - loss: 0.0118 - acc: 0.9965 - val_loss: 0.0236 - val_acc: 0.9945\nEpoch 40/60\n - 4s - loss: 0.0083 - acc: 0.9976 - val_loss: 0.0315 - val_acc: 0.9945\nEpoch 41/60\n - 4s - loss: 0.0126 - acc: 0.9965 - val_loss: 0.0280 - val_acc: 0.9950\nEpoch 42/60\n - 4s - loss: 0.0092 - acc: 0.9973 - val_loss: 0.0277 - val_acc: 0.9950\nEpoch 43/60\n - 4s - loss: 0.0093 - acc: 0.9978 - val_loss: 0.0401 - val_acc: 0.9929\nEpoch 44/60\n - 4s - loss: 0.0124 - acc: 0.9962 - val_loss: 0.0392 - val_acc: 0.9933\nEpoch 45/60\n - 4s - loss: 0.0110 - acc: 0.9970 - val_loss: 0.0332 - val_acc: 0.9952\nEpoch 46/60\n - 4s - loss: 0.0096 - acc: 0.9969 - val_loss: 0.0413 - val_acc: 0.9938\nEpoch 47/60\n - 4s - loss: 0.0105 - acc: 0.9966 - val_loss: 0.0310 - val_acc: 0.9940\nEpoch 48/60\n - 4s - loss: 0.0086 - acc: 0.9976 - val_loss: 0.0363 - val_acc: 0.9936\nEpoch 49/60\n - 4s - loss: 0.0116 - acc: 0.9967 - val_loss: 0.0256 - val_acc: 0.9955\nEpoch 50/60\n - 4s - loss: 0.0098 - acc: 0.9972 - val_loss: 0.0300 - val_acc: 0.9948\nEpoch 51/60\n - 4s - loss: 0.0080 - acc: 0.9976 - val_loss: 0.0241 - val_acc: 0.9952\nEpoch 52/60\n - 4s - loss: 0.0095 - acc: 0.9973 - val_loss: 0.0343 - val_acc: 0.9943\nEpoch 53/60\n - 4s - loss: 0.0140 - acc: 0.9964 - val_loss: 0.0291 - val_acc: 0.9940\nEpoch 54/60\n - 4s - loss: 0.0075 - acc: 0.9980 - val_loss: 0.0462 - val_acc: 0.9938\nEpoch 55/60\n - 4s - loss: 0.0109 - acc: 0.9973 - val_loss: 0.0244 - val_acc: 0.9948\nEpoch 56/60\n - 4s - loss: 0.0098 - acc: 0.9975 - val_loss: 0.0402 - val_acc: 0.9931\nEpoch 57/60\n - 4s - loss: 0.0105 - acc: 0.9975 - val_loss: 0.0314 - val_acc: 0.9948\nEpoch 58/60\n - 4s - loss: 0.0094 - acc: 0.9974 - val_loss: 0.0282 - val_acc: 0.9948\nEpoch 59/60\n - 4s - loss: 0.0094 - acc: 0.9975 - val_loss: 0.0253 - val_acc: 0.9955\nEpoch 60/60\n - 4s - loss: 0.0097 - acc: 0.9974 - val_loss: 0.0305 - val_acc: 0.9950\n",
          "name": "stdout"
        }
      ]
    },
    {
      "metadata": {
        "trusted": true,
        "_uuid": "194789240fc3613349a556ad5bddee472a245d22"
      },
      "cell_type": "code",
      "source": "acc=history.history['acc']\nval_acc=history.history['val_acc']\nloss=history.history['loss']\nval_loss=history.history['val_loss']\n\nepochs = range(len(acc))\n\nplt.plot(epochs , acc , 'bo', label='trainig acc')\nplt.plot(epochs , val_acc , 'b', label='validation acc')\nplt.title('training and validation accuracy')\nplt.legend()\n\nplt.figure()\n\nplt.plot(epochs , loss , 'bo', label='trainig loss')\nplt.plot(epochs , val_loss , 'b', label='validation loss')\nplt.title('training and validation loss')\nplt.legend()\n\nplt.show()",
      "execution_count": null,
      "outputs": [
        {
          "output_type": "display_data",
          "data": {
            "text/plain": "<Figure size 432x288 with 1 Axes>",
            "image/png": "[encoded data removed]"
          },
          "metadata": {}
        }
      ]
    }
  ],
  "metadata": {
    "kernelspec": {
      "display_name": "Python 3",
      "language": "python",
      "name": "python3"
    },
    "language_info": {
      "name": "python",
      "version": "3.6.6",
      "mimetype": "text/x-python",
      "codemirror_mode": {
        "name": "ipython",
        "version": 3
      },
      "pygments_lexer": "ipython3",
      "nbconvert_exporter": "python",
      "file_extension": ".py"
    }
  },
  "nbformat": 4,
  "nbformat_minor": 1
}